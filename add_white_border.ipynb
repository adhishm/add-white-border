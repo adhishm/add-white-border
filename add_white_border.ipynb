{
 "cells": [
  {
   "cell_type": "code",
   "execution_count": null,
   "metadata": {},
   "outputs": [],
   "source": [
    "from PIL import Image, ImageOps\n",
    "\n",
    "def add_white_border(image_path, aspect_ratio, output_path):\n",
    "    \"\"\"\n",
    "    Adds a white border to an image to achieve the desired aspect ratio and saves it as a JPG.\n",
    "\n",
    "    Parameters:\n",
    "        image_path (str): Path to the input image file.\n",
    "        aspect_ratio (tuple): Desired aspect ratio as (height, width).\n",
    "        output_path (str): Path to save the output image.\n",
    "    \"\"\"\n",
    "    # Open the image\n",
    "    img = Image.open(image_path)\n",
    "    \n",
    "    # Get the original dimensions\n",
    "    original_width, original_height = img.size\n",
    "    \n",
    "    # Calculate the target dimensions based on the desired aspect ratio\n",
    "    target_height, target_width = aspect_ratio\n",
    "    target_ratio = target_height / target_width\n",
    "    \n",
    "    # Calculate the new dimensions while maintaining the aspect ratio\n",
    "    current_ratio = original_height / original_width\n",
    "    if current_ratio > target_ratio:\n",
    "        # Image is taller than desired ratio, adjust width\n",
    "        new_height = original_height\n",
    "        new_width = int(original_height / target_ratio)\n",
    "    else:\n",
    "        # Image is wider than desired ratio, adjust height\n",
    "        new_width = original_width\n",
    "        new_height = int(original_width * target_ratio)\n",
    "    \n",
    "    # Create a new image with the target dimensions and a white background\n",
    "    new_img = Image.new(\"RGB\", (new_width, new_height), \"white\")\n",
    "    \n",
    "    # Paste the original image onto the center of the new image\n",
    "    paste_x = (new_width - original_width) // 2\n",
    "    paste_y = (new_height - original_height) // 2\n",
    "    new_img.paste(img, (paste_x, paste_y))\n",
    "    \n",
    "    # Save the resulting image as a JPG\n",
    "    new_img.save(output_path, \"JPEG\")\n",
    "\n",
    "# Example usage:\n",
    "# add_white_border(\"input.jpg\", (16, 9), \"output.jpg\")"
   ]
  },
  {
   "cell_type": "code",
   "execution_count": null,
   "metadata": {},
   "outputs": [],
   "source": [
    "add_white_border(\n",
    "    image_path='/Users/adm/Pictures/PhotoClubLausanne/Concours/20250325-Photos_de_Rue/Selects/Christine Lefebvre 1ère.jpg',\n",
    "    aspect_ratio=(1.0, 1.0),\n",
    "    output_path='./Christine_lefebvre_1.jpg'\n",
    ")"
   ]
  },
  {
   "cell_type": "code",
   "execution_count": null,
   "metadata": {},
   "outputs": [],
   "source": [
    "import glob\n",
    "\n",
    "files = glob.glob('/Users/adm/Pictures/PhotoClubLausanne/Concours/20250325-Photos_de_Rue/Selects/*.jpg')\n",
    "files"
   ]
  },
  {
   "cell_type": "code",
   "execution_count": null,
   "metadata": {},
   "outputs": [],
   "source": [
    "import os\n",
    "from tqdm.auto import tqdm\n",
    "\n",
    "for file in tqdm(files):\n",
    "    basename = os.path.basename(file)[:-4]\n",
    "    add_white_border(\n",
    "        image_path=file,\n",
    "        aspect_ratio=(1.0, 1.0),\n",
    "        output_path=os.path.join(\n",
    "            \"/Users/adm/Pictures/PhotoClubLausanne/Concours/20250325-Photos_de_Rue/Output/\",\n",
    "            f\"{basename}_white.jpg\"\n",
    "        )\n",
    "    )\n"
   ]
  },
  {
   "cell_type": "code",
   "execution_count": null,
   "metadata": {},
   "outputs": [],
   "source": []
  }
 ],
 "metadata": {
  "kernelspec": {
   "display_name": "Python 3",
   "language": "python",
   "name": "python3"
  },
  "language_info": {
   "codemirror_mode": {
    "name": "ipython",
    "version": 3
   },
   "file_extension": ".py",
   "mimetype": "text/x-python",
   "name": "python",
   "nbconvert_exporter": "python",
   "pygments_lexer": "ipython3",
   "version": "3.9.6"
  }
 },
 "nbformat": 4,
 "nbformat_minor": 2
}
