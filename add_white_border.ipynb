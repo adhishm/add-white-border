{
 "cells": [
  {
   "cell_type": "code",
   "execution_count": 6,
   "metadata": {},
   "outputs": [],
   "source": [
    "from PIL import Image, ImageOps\n",
    "\n",
    "def add_white_border(image_path, output_path):\n",
    "    \"\"\"\n",
    "    Adds a white border to an image to fit the size 3500x2333 pixels at 300 DPI, \n",
    "    maintaining the aspect ratio and filling empty space with white.\n",
    "\n",
    "    Parameters:\n",
    "        image_path (str): Path to the input image file.\n",
    "        output_path (str): Path to save the output image.\n",
    "    \"\"\"\n",
    "    # Desired output dimensions and DPI\n",
    "    output_width, output_height = 3500, 2333\n",
    "    dpi = (300, 300)\n",
    "\n",
    "    # Open the image\n",
    "    img = Image.open(image_path)\n",
    "    \n",
    "    # Calculate the aspect ratio of the input image\n",
    "    original_width, original_height = img.size\n",
    "    original_ratio = original_width / original_height\n",
    "    target_ratio = output_width / output_height\n",
    "\n",
    "    # Resize the image while maintaining its aspect ratio\n",
    "    if original_ratio > target_ratio:\n",
    "        # Image is wider than the target ratio, fit to width\n",
    "        new_width = output_width\n",
    "        new_height = int(output_width / original_ratio)\n",
    "    else:\n",
    "        # Image is taller than the target ratio, fit to height\n",
    "        new_height = output_height\n",
    "        new_width = int(output_height * original_ratio)\n",
    "    \n",
    "    resized_img = img.resize((new_width, new_height), Image.LANCZOS)\n",
    "\n",
    "    # Create a new image with the target dimensions and a white background\n",
    "    new_img = Image.new(\"RGB\", (output_width, output_height), \"white\")\n",
    "    \n",
    "    # Paste the resized image onto the center of the new image\n",
    "    paste_x = (output_width - new_width) // 2\n",
    "    paste_y = (output_height - new_height) // 2\n",
    "    new_img.paste(resized_img, (paste_x, paste_y))\n",
    "\n",
    "    # Save the resulting image as a JPG with the specified DPI\n",
    "    new_img.save(output_path, \"JPEG\", dpi=dpi)"
   ]
  },
  {
   "cell_type": "code",
   "execution_count": null,
   "metadata": {},
   "outputs": [],
   "source": [
    "add_white_border(\n",
    "    image_path='/Users/adm/Pictures/PhotoClubLausanne/Concours/20250325-Photos_de_Rue/Selects/Christine Lefebvre 1ère.jpg',\n",
    "    aspect_ratio=(1.0, 1.0),\n",
    "    output_path='./Christine_lefebvre_1.jpg'\n",
    ")"
   ]
  },
  {
   "cell_type": "code",
   "execution_count": 7,
   "metadata": {},
   "outputs": [
    {
     "data": {
      "text/plain": [
       "['/Users/adm/Pictures/PhotoClubLausanne/Concours/20250325-Photos_de_Rue/Selects/Sacha Ramelli 4ème.jpg',\n",
       " '/Users/adm/Pictures/PhotoClubLausanne/Concours/20250325-Photos_de_Rue/Selects/Daniel Sandu 3ème.jpg',\n",
       " '/Users/adm/Pictures/PhotoClubLausanne/Concours/20250325-Photos_de_Rue/Selects/Christine Lefebvre 1ère.jpg',\n",
       " '/Users/adm/Pictures/PhotoClubLausanne/Concours/20250325-Photos_de_Rue/Selects/Christine Lefebvre 5ème.jpg',\n",
       " '/Users/adm/Pictures/PhotoClubLausanne/Concours/20250325-Photos_de_Rue/Selects/Sacha Ramelli 2ème.jpg']"
      ]
     },
     "execution_count": 7,
     "metadata": {},
     "output_type": "execute_result"
    }
   ],
   "source": [
    "import glob\n",
    "\n",
    "files = glob.glob('/Users/adm/Pictures/PhotoClubLausanne/Concours/20250325-Photos_de_Rue/Selects/*.jpg')\n",
    "files"
   ]
  },
  {
   "cell_type": "code",
   "execution_count": 9,
   "metadata": {},
   "outputs": [
    {
     "data": {
      "application/vnd.jupyter.widget-view+json": {
       "model_id": "df5ab8bcdaa742768f9058ac8071643f",
       "version_major": 2,
       "version_minor": 0
      },
      "text/plain": [
       "  0%|          | 0/5 [00:00<?, ?it/s]"
      ]
     },
     "metadata": {},
     "output_type": "display_data"
    }
   ],
   "source": [
    "import os\n",
    "from tqdm.auto import tqdm\n",
    "\n",
    "for file in tqdm(files):\n",
    "    basename = os.path.basename(file)[:-4]\n",
    "    add_white_border(\n",
    "        image_path=file,\n",
    "        # aspect_ratio=(1.0, 1.0),\n",
    "        output_path=os.path.join(\n",
    "            \"/Users/adm/Pictures/PhotoClubLausanne/Concours/20250325-Photos_de_Rue/Output/\",\n",
    "            f\"{basename}_white.jpg\"\n",
    "        )\n",
    "    )\n"
   ]
  },
  {
   "cell_type": "code",
   "execution_count": null,
   "metadata": {},
   "outputs": [],
   "source": []
  }
 ],
 "metadata": {
  "kernelspec": {
   "display_name": "Python 3",
   "language": "python",
   "name": "python3"
  },
  "language_info": {
   "codemirror_mode": {
    "name": "ipython",
    "version": 3
   },
   "file_extension": ".py",
   "mimetype": "text/x-python",
   "name": "python",
   "nbconvert_exporter": "python",
   "pygments_lexer": "ipython3",
   "version": "3.9.6"
  }
 },
 "nbformat": 4,
 "nbformat_minor": 2
}
